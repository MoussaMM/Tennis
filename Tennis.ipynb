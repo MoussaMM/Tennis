{
 "cells": [
  {
   "cell_type": "markdown",
   "metadata": {},
   "source": [
    "# Collaboration and Competition\n",
    "\n",
    "---\n",
    "\n",
    "In this notebook, you will learn how to use the Unity ML-Agents environment for the third project of the [Deep Reinforcement Learning Nanodegree](https://www.udacity.com/course/deep-reinforcement-learning-nanodegree--nd893) program.\n",
    "\n",
    "### 1. Start the Environment\n",
    "\n",
    "We begin by importing the necessary packages.  If the code cell below returns an error, please revisit the project instructions to double-check that you have installed [Unity ML-Agents](https://github.com/Unity-Technologies/ml-agents/blob/master/docs/Installation.md) and [NumPy](http://www.numpy.org/)."
   ]
  },
  {
   "cell_type": "code",
   "execution_count": 1,
   "metadata": {},
   "outputs": [],
   "source": [
    "from unityagents import UnityEnvironment\n",
    "import numpy as np\n",
    "from ddpg_agent import Agent\n",
    "from collections import deque\n",
    "import matplotlib.pyplot as plt\n",
    "import torch"
   ]
  },
  {
   "cell_type": "markdown",
   "metadata": {},
   "source": [
    "Next, we will start the environment!  **_Before running the code cell below_**, change the `file_name` parameter to match the location of the Unity environment that you downloaded.\n",
    "\n",
    "- **Mac**: `\"path/to/Tennis.app\"`\n",
    "- **Windows** (x86): `\"path/to/Tennis_Windows_x86/Tennis.exe\"`\n",
    "- **Windows** (x86_64): `\"path/to/Tennis_Windows_x86_64/Tennis.exe\"`\n",
    "- **Linux** (x86): `\"path/to/Tennis_Linux/Tennis.x86\"`\n",
    "- **Linux** (x86_64): `\"path/to/Tennis_Linux/Tennis.x86_64\"`\n",
    "- **Linux** (x86, headless): `\"path/to/Tennis_Linux_NoVis/Tennis.x86\"`\n",
    "- **Linux** (x86_64, headless): `\"path/to/Tennis_Linux_NoVis/Tennis.x86_64\"`\n",
    "\n",
    "For instance, if you are using a Mac, then you downloaded `Tennis.app`.  If this file is in the same folder as the notebook, then the line below should appear as follows:\n",
    "```\n",
    "env = UnityEnvironment(file_name=\"Tennis.app\")\n",
    "```"
   ]
  },
  {
   "cell_type": "code",
   "execution_count": 2,
   "metadata": {},
   "outputs": [
    {
     "name": "stderr",
     "output_type": "stream",
     "text": [
      "INFO:unityagents:\n",
      "'Academy' started successfully!\n",
      "Unity Academy name: Academy\n",
      "        Number of Brains: 1\n",
      "        Number of External Brains : 1\n",
      "        Lesson number : 0\n",
      "        Reset Parameters :\n",
      "\t\t\n",
      "Unity brain name: TennisBrain\n",
      "        Number of Visual Observations (per agent): 0\n",
      "        Vector Observation space type: continuous\n",
      "        Vector Observation space size (per agent): 8\n",
      "        Number of stacked Vector Observation: 3\n",
      "        Vector Action space type: continuous\n",
      "        Vector Action space size (per agent): 2\n",
      "        Vector Action descriptions: , \n"
     ]
    }
   ],
   "source": [
    "env = UnityEnvironment(file_name=\"Tennis_Windows_x86_64/Tennis.exe\")"
   ]
  },
  {
   "cell_type": "markdown",
   "metadata": {},
   "source": [
    "Environments contain **_brains_** which are responsible for deciding the actions of their associated agents. Here we check for the first brain available, and set it as the default brain we will be controlling from Python."
   ]
  },
  {
   "cell_type": "code",
   "execution_count": 3,
   "metadata": {},
   "outputs": [],
   "source": [
    "# get the default brain\n",
    "brain_name = env.brain_names[0]\n",
    "brain = env.brains[brain_name]"
   ]
  },
  {
   "cell_type": "markdown",
   "metadata": {},
   "source": [
    "### 2. Examine the State and Action Spaces\n",
    "\n",
    "In this environment, two agents control rackets to bounce a ball over a net. If an agent hits the ball over the net, it receives a reward of +0.1.  If an agent lets a ball hit the ground or hits the ball out of bounds, it receives a reward of -0.01.  Thus, the goal of each agent is to keep the ball in play.\n",
    "\n",
    "The observation space consists of 8 variables corresponding to the position and velocity of the ball and racket. Two continuous actions are available, corresponding to movement toward (or away from) the net, and jumping. \n",
    "\n",
    "Run the code cell below to print some information about the environment."
   ]
  },
  {
   "cell_type": "code",
   "execution_count": 4,
   "metadata": {},
   "outputs": [
    {
     "name": "stdout",
     "output_type": "stream",
     "text": [
      "Number of agents: 2\n",
      "Size of each action: 2\n",
      "There are 2 agents. Each observes a state with length: 24\n",
      "The state for the first agent looks like: [ 0.          0.          0.          0.          0.          0.\n",
      "  0.          0.          0.          0.          0.          0.\n",
      "  0.          0.          0.          0.         -6.65278625 -1.5\n",
      " -0.          0.          6.83172083  6.         -0.          0.        ]\n"
     ]
    }
   ],
   "source": [
    "# reset the environment\n",
    "env_info = env.reset(train_mode=True)[brain_name]\n",
    "\n",
    "# number of agents \n",
    "num_agents = len(env_info.agents)\n",
    "print('Number of agents:', num_agents)\n",
    "\n",
    "# size of each action\n",
    "action_size = brain.vector_action_space_size\n",
    "print('Size of each action:', action_size)\n",
    "\n",
    "# examine the state space \n",
    "states = env_info.vector_observations\n",
    "state_size = states.shape[1]\n",
    "print('There are {} agents. Each observes a state with length: {}'.format(states.shape[0], state_size))\n",
    "print('The state for the first agent looks like:', states[0])"
   ]
  },
  {
   "cell_type": "markdown",
   "metadata": {},
   "source": [
    "### 4. Take Actions from DDPG agent in the Environment\n",
    "\n",
    "Once this cell is executed, you will watch the agent's performance, with DDPG. A window should pop up that allows you to observe the agent, as it moves through the environment.\n",
    "This will train the agent until he reaches a 0.5 score!"
   ]
  },
  {
   "cell_type": "code",
   "execution_count": 5,
   "metadata": {},
   "outputs": [],
   "source": [
    "def run_ddpg_for_one_episode(agent, env, brain_name, is_training):\n",
    "    \"\"\"Run the DDPG agent for one episode\"\"\"\n",
    "    env_info = env.reset(train_mode=is_training)[brain_name]   # reset the environment    \n",
    "    states = env_info.vector_observations                       # get the current state (for the agent)\n",
    "    states = states.ravel()\n",
    "    scores = np.zeros(num_agents)                                                 # initialize the score (for the agent)\n",
    "    step_num = 0\n",
    "    rebound_memory = []                                        # save all the agent variables to the last rebound of an episode\n",
    "    short_term_memory = []                                     # save all the agent variables between the last two important steps \n",
    "                                                               #(reward of 0.1 or -0.01) \n",
    "    number_of_rebounds = 0                               # get how many times the ball has rebound\n",
    "    no_bounce = True\n",
    "    while True:\n",
    "        flat_actions = agent.act(states, add_noise=is_training)            # select an action (for both agents)\n",
    "        actions = flat_actions.reshape((2, -1)) \n",
    "        env_info = env.step(actions)[brain_name]             # send all actions to tne environment\n",
    "        next_states = env_info.vector_observations           # get next state (for each agent)\n",
    "        next_states = next_states.ravel()                    # flatten the states\n",
    "        rewards = env_info.rewards                           # get reward (for each agent)\n",
    "        dones = env_info.local_done                          # see if episode finished\n",
    "        if is_training:\n",
    "            done = np.any(dones)\n",
    "            short_term_memory.append([states, flat_actions, 0, next_states, done])\n",
    "            if np.isclose(np.max(rewards), 0.1):\n",
    "                number_of_rebounds += 1\n",
    "                rebound_memory += short_term_memory\n",
    "                short_term_memory = []\n",
    "            elif np.isclose(np.min(rewards), -0.01):\n",
    "                if number_of_rebounds:\n",
    "                    rebound_memory_array = np.array(rebound_memory)\n",
    "                    num_elements = len(rebound_memory)\n",
    "                    rebound_memory_array[:, 2] += np.linspace(number_of_rebounds + 0.1*num_elements, number_of_rebounds, num_elements) \n",
    "                losing_memory_array = np.array(short_term_memory)\n",
    "                losing_memory_array[:, 2] += np.arange(0, -len(short_term_memory), -1) * 0.01\n",
    "                if number_of_rebounds:\n",
    "                    learning_memory_array = np.append(rebound_memory_array, losing_memory_array, axis=0)\n",
    "                    no_bounce = False\n",
    "                else:\n",
    "                    learning_memory_array = losing_memory_array\n",
    "                agent.step(learning_memory_array, no_bounce)\n",
    "                short_term_memory = []\n",
    "        scores += rewards                                        # update the score (for each agent)\n",
    "        states = next_states                                 # roll over states to next time step\n",
    "        step_num += 1\n",
    "        if np.any(dones):                                               # exit loop if episode finished\n",
    "            return scores\n",
    "\n",
    "def ddpg(env, brain_name, n_episodes=5000, print_every=100, finish_score=0.5):\n",
    "    agent = Agent(state_size=2*state_size, action_size=2*action_size, random_seed=0)\n",
    "    scores_deque = deque(maxlen=print_every)\n",
    "    scores = []                        # All the scores\n",
    "    for i_episode in range(1, n_episodes+1):\n",
    "        score = np.max(run_ddpg_for_one_episode(agent, env, brain_name, True)) \n",
    "        scores_deque.append(score)\n",
    "        scores.append(score)\n",
    "        print('\\rEpisode {}\\tAverage Score: {:.2f}'.format(i_episode, np.mean(scores_deque)), end=\"\")\n",
    "        if i_episode % print_every == 0:\n",
    "            print('\\rEpisode {}\\tAverage Score: {:.2f}'.format(i_episode, np.mean(scores_deque)))\n",
    "        if np.mean(scores_deque)>=finish_score:\n",
    "            print('\\nEnvironment solved in {:d} episodes!\\tAverage Score: {:.2f}'.format(i_episode-100, np.mean(scores_deque)))\n",
    "            torch.save(agent.actor_local.state_dict(), 'checkpoint_actor.pth')\n",
    "            torch.save(agent.critic_local.state_dict(), 'checkpoint_critic.pth')\n",
    "            break\n",
    "    return scores"
   ]
  },
  {
   "cell_type": "code",
   "execution_count": 8,
   "metadata": {
    "scrolled": false
   },
   "outputs": [
    {
     "name": "stderr",
     "output_type": "stream",
     "text": [
      "C:\\Users\\medmo\\anaconda3\\envs\\drlnd\\lib\\site-packages\\ipykernel_launcher.py:33: VisibleDeprecationWarning: Creating an ndarray from ragged nested sequences (which is a list-or-tuple of lists-or-tuples-or ndarrays with different lengths or shapes) is deprecated. If you meant to do this, you must specify 'dtype=object' when creating the ndarray\n"
     ]
    },
    {
     "name": "stdout",
     "output_type": "stream",
     "text": [
      "Episode 100\tAverage Score: 0.00\n",
      "Episode 103\tAverage Score: 0.00"
     ]
    },
    {
     "name": "stderr",
     "output_type": "stream",
     "text": [
      "C:\\Users\\medmo\\anaconda3\\envs\\drlnd\\lib\\site-packages\\ipykernel_launcher.py:30: VisibleDeprecationWarning: Creating an ndarray from ragged nested sequences (which is a list-or-tuple of lists-or-tuples-or ndarrays with different lengths or shapes) is deprecated. If you meant to do this, you must specify 'dtype=object' when creating the ndarray\n"
     ]
    },
    {
     "name": "stdout",
     "output_type": "stream",
     "text": [
      "Episode 200\tAverage Score: 0.02\n",
      "Episode 300\tAverage Score: 0.02\n",
      "Episode 400\tAverage Score: 0.06\n",
      "Episode 500\tAverage Score: 0.08\n",
      "Episode 600\tAverage Score: 0.09\n",
      "Episode 700\tAverage Score: 0.09\n",
      "Episode 800\tAverage Score: 0.09\n",
      "Episode 900\tAverage Score: 0.09\n",
      "Episode 1000\tAverage Score: 0.09\n",
      "Episode 1100\tAverage Score: 0.13\n",
      "Episode 1200\tAverage Score: 0.16\n",
      "Episode 1300\tAverage Score: 0.14\n",
      "Episode 1400\tAverage Score: 0.14\n",
      "Episode 1500\tAverage Score: 0.13\n",
      "Episode 1600\tAverage Score: 0.11\n",
      "Episode 1700\tAverage Score: 0.21\n",
      "Episode 1800\tAverage Score: 0.18\n",
      "Episode 1900\tAverage Score: 0.16\n",
      "Episode 2000\tAverage Score: 0.17\n",
      "Episode 2100\tAverage Score: 0.17\n",
      "Episode 2200\tAverage Score: 0.18\n",
      "Episode 2300\tAverage Score: 0.19\n",
      "Episode 2400\tAverage Score: 0.22\n",
      "Episode 2500\tAverage Score: 0.27\n",
      "Episode 2600\tAverage Score: 0.26\n",
      "Episode 2700\tAverage Score: 0.27\n",
      "Episode 2800\tAverage Score: 0.26\n",
      "Episode 2900\tAverage Score: 0.23\n",
      "Episode 3000\tAverage Score: 0.23\n",
      "Episode 3100\tAverage Score: 0.25\n",
      "Episode 3200\tAverage Score: 0.27\n",
      "Episode 3300\tAverage Score: 0.31\n",
      "Episode 3400\tAverage Score: 0.40\n",
      "Episode 3500\tAverage Score: 0.32\n",
      "Episode 3600\tAverage Score: 0.36\n",
      "Episode 3700\tAverage Score: 0.51\n",
      "\n",
      "Environment solved in 3600 episodes!\tAverage Score: 0.51\n"
     ]
    },
    {
     "data": {
      "image/png": "[encoded data removed]",
      "text/plain": [
       "<Figure size 432x288 with 1 Axes>"
      ]
     },
     "metadata": {
      "needs_background": "light"
     },
     "output_type": "display_data"
    }
   ],
   "source": [
    "scores = ddpg(env, brain_name, finish_score=0.5)\n",
    "\n",
    "# plot the scores\n",
    "fig = plt.figure()\n",
    "ax = fig.add_subplot(111)\n",
    "plt.plot(np.arange(len(scores)), scores)\n",
    "plt.ylabel('Score')\n",
    "plt.xlabel('Episode #')\n",
    "plt.show()"
   ]
  },
  {
   "cell_type": "markdown",
   "metadata": {},
   "source": [
    "### Try out the agent\n",
    "Run the next cell to download the agent from the checkpoints and see it in action through a number of episodes!"
   ]
  },
  {
   "cell_type": "code",
   "execution_count": 12,
   "metadata": {
    "scrolled": false
   },
   "outputs": [
    {
     "name": "stdout",
     "output_type": "stream",
     "text": [
      "Episode 5\tAverage Score: 0.64\n"
     ]
    },
    {
     "data": {
      "image/png": "[encoded data removed]",
      "text/plain": [
       "<Figure size 432x288 with 1 Axes>"
      ]
     },
     "metadata": {
      "needs_background": "light"
     },
     "output_type": "display_data"
    }
   ],
   "source": [
    "def run_model_from_checkpoint(checkpoint_actor=\"checkpoint_actor.pth\", checkpoint_critic=\"checkpoint_critic.pth\",\n",
    "                          number_of_episodes=5):\n",
    "    agent = Agent(state_size=2*state_size, action_size=2*action_size, random_seed=0)\n",
    "    agent.actor_local.load_state_dict(torch.load(checkpoint_actor))\n",
    "    agent.critic_local.load_state_dict(torch.load(checkpoint_critic))\n",
    "    scores_deque = deque(maxlen=number_of_episodes)\n",
    "    for i_episode in range(1, number_of_episodes+1):\n",
    "        score = np.max(run_ddpg_for_one_episode(agent, env, brain_name, False)) \n",
    "        scores_deque.append(score)\n",
    "        print('\\rEpisode {}\\tAverage Score: {:.2f}'.format(i_episode, np.mean(scores_deque)), end=\"\")\n",
    "        if i_episode % number_of_episodes == 0:\n",
    "            print('\\rEpisode {}\\tAverage Score: {:.2f}'.format(i_episode, np.mean(scores_deque)))\n",
    "    fig = plt.figure()\n",
    "    ax = fig.add_subplot(111)\n",
    "    plt.plot(np.arange(len(scores_deque)), scores_deque)\n",
    "    plt.ylabel('Score')\n",
    "    plt.xlabel('Episode #')\n",
    "    plt.show()\n",
    "    \n",
    "run_model_from_checkpoint()"
   ]
  },
  {
   "cell_type": "markdown",
   "metadata": {},
   "source": [
    "When finished, you can close the environment."
   ]
  },
  {
   "cell_type": "code",
   "execution_count": 6,
   "metadata": {},
   "outputs": [],
   "source": [
    "env.close()"
   ]
  }
 ],
 "metadata": {
  "kernelspec": {
   "display_name": "drlnd",
   "language": "python",
   "name": "drlnd"
  },
  "language_info": {
   "codemirror_mode": {
    "name": "ipython",
    "version": 3
   },
   "file_extension": ".py",
   "mimetype": "text/x-python",
   "name": "python",
   "nbconvert_exporter": "python",
   "pygments_lexer": "ipython3",
   "version": "3.6.13"
  }
 },
 "nbformat": 4,
 "nbformat_minor": 2
}